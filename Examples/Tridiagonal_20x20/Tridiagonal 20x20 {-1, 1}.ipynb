{
 "cells": [
  {
   "cell_type": "code",
   "execution_count": null,
   "metadata": {},
   "outputs": [],
   "source": [
    "import sys\n",
    "sys.path.append('../../')\n",
    "\n",
    "from bohemian import *\n",
    "from matrix_generators import *"
   ]
  },
  {
   "cell_type": "code",
   "execution_count": null,
   "metadata": {},
   "outputs": [],
   "source": [
    "# g must be a function that takes a positive integer, num_matrices, as input\n",
    "# and returns an array of dimension (num_matrices, n, n)\n",
    "def g(num_matrices):\n",
    "    return random_tridiagonal_matrix([-1, 1], 20, num_matrices = num_matrices, d = 0)"
   ]
  },
  {
   "cell_type": "markdown",
   "metadata": {},
   "source": [
    "## Parameters"
   ]
  },
  {
   "cell_type": "code",
   "execution_count": null,
   "metadata": {},
   "outputs": [],
   "source": [
    "num_matrices = 10**8       # Total number of matrices to compute eigenvalues of\n",
    "batch_size = 10**5         # Number of matrices to compute eigenvalues of in a batch \n",
    "                           # (this will be the value provided to g)\n",
    "matrices_per_file = 10**7  # Number of matrices in each file\n",
    "\n",
    "use_single_precision = True  # Store computed eigenvalues in single precision when saved (i.e. np.compled64)\n",
    "compress_data = False        # Save data in the compressed numpy format (np.save_compressed), will slow down saving\n",
    "n_jobs = 4                   # Number of threads to run in parallel\n",
    "\n",
    "symmetry_real = False        # Add symmetry across the real axis (i.e. if a+bi is an eigenvalue, \n",
    "                             # add a-bi as an eigenvalue)\n",
    "symmetry_imag = True         # Add symmetry across the imaginary axis (i.e. if a+bi is an eigenvalue, \n",
    "                             # add -a+bi as an eigenvalue)\n",
    "# When both symmetry_real and symmetry_imag are True, both symmetries will be used. (i.e. if a+bi\n",
    "# is an eigenvalue, a-bi, -a+bi, and -a-bi are added)\n",
    "\n",
    "cm = plt.cm.hsv_r                # Colormap for image\n",
    "background_color = (0,0,0,255)   # Backgroud color (r,g,b,a), 8-bit int (transparent background is allowed)\n",
    "\n",
    "real_min = -2     # Left limit of image\n",
    "real_max = 2      # Right limit of image\n",
    "imag_min = -2     # Bottom limit of image\n",
    "imag_max = 2      # Top limit of image\n",
    "height = 2001     # Number of pixels for height, width is automatically computed such that each pixel is square\n",
    "\n",
    "# Locations of saved data/histogram/images\n",
    "data_dir = 'Data'\n",
    "histogram_file = 'Histogram_{}.npy'.format(height)\n",
    "images_dir = 'Images'"
   ]
  },
  {
   "cell_type": "markdown",
   "metadata": {},
   "source": [
    "## Compute Eigenvalues"
   ]
  },
  {
   "cell_type": "code",
   "execution_count": null,
   "metadata": {},
   "outputs": [],
   "source": [
    "%%time\n",
    "\n",
    "compute_eigenvalues(g,\n",
    "                    num_matrices = num_matrices,\n",
    "                    batch_size = batch_size,\n",
    "                    matrices_per_file = matrices_per_file,\n",
    "                    file_start_idx = 0,\n",
    "                    use_single_precision = use_single_precision,\n",
    "                    data_dir = data_dir,\n",
    "                    compress_data = compress_data,\n",
    "                    verbose = 1,\n",
    "                    n_jobs = n_jobs)"
   ]
  },
  {
   "cell_type": "markdown",
   "metadata": {},
   "source": [
    "## Compute Histogram"
   ]
  },
  {
   "cell_type": "code",
   "execution_count": null,
   "metadata": {},
   "outputs": [],
   "source": [
    "%%time\n",
    "\n",
    "compute_histogram(histogram_file = histogram_file,\n",
    "                  data_dir = data_dir,\n",
    "                  height = height,\n",
    "                  compress_data = compress_data,\n",
    "                  symmetry_real = symmetry_real,\n",
    "                  symmetry_imag = symmetry_imag,\n",
    "                  num_files = num_matrices//matrices_per_file,\n",
    "                  axisrange = [[real_min, real_max], [imag_min, imag_max]],\n",
    "                  verbose = 1,\n",
    "                  n_jobs = n_jobs)"
   ]
  },
  {
   "cell_type": "markdown",
   "metadata": {},
   "source": [
    "## Plot Eigenvalues"
   ]
  },
  {
   "cell_type": "code",
   "execution_count": null,
   "metadata": {},
   "outputs": [],
   "source": [
    "%%time\n",
    "\n",
    "# The raw integer count values in the histogram (at each pixel) are\n",
    "# transformed by the function given in the histogram_map argument.\n",
    "# log(count+1) typically works well.\n",
    "plot_histogram(histogram_file = histogram_file,\n",
    "               background_color = background_color,\n",
    "               image_dir = images_dir,\n",
    "               image_name = 'Image-1.png',\n",
    "               cm = cm,\n",
    "               histogram_map = lambda x: np.log(x+1))"
   ]
  },
  {
   "cell_type": "code",
   "execution_count": null,
   "metadata": {},
   "outputs": [],
   "source": []
  }
 ],
 "metadata": {
  "kernelspec": {
   "display_name": "Python 3",
   "language": "python",
   "name": "python3"
  },
  "language_info": {
   "codemirror_mode": {
    "name": "ipython",
    "version": 3
   },
   "file_extension": ".py",
   "mimetype": "text/x-python",
   "name": "python",
   "nbconvert_exporter": "python",
   "pygments_lexer": "ipython3",
   "version": "3.5.4"
  }
 },
 "nbformat": 4,
 "nbformat_minor": 2
}
